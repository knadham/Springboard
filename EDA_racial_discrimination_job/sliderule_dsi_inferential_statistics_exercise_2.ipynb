{
 "cells": [
  {
   "cell_type": "markdown",
   "metadata": {},
   "source": [
    "# Examining Racial Discrimination in the US Job Market\n",
    "\n",
    "### Background\n",
    "Racial discrimination continues to be pervasive in cultures throughout the world. Researchers examined the level of racial discrimination in the United States labor market by randomly assigning identical résumés to black-sounding or white-sounding names and observing the impact on requests for interviews from employers.\n",
    "\n",
    "### Data\n",
    "In the dataset provided, each row represents a resume. The 'race' column has two values, 'b' and 'w', indicating black-sounding and white-sounding. The column 'call' has two values, 1 and 0, indicating whether the resume received a call from employers or not.\n",
    "\n",
    "Note that the 'b' and 'w' values in race are assigned randomly to the resumes when presented to the employer."
   ]
  },
  {
   "cell_type": "markdown",
   "metadata": {},
   "source": [
    "<div class=\"span5 alert alert-info\">\n",
    "### Exercises\n",
    "You will perform a statistical analysis to establish whether race has a significant impact on the rate of callbacks for resumes.\n",
    "\n",
    "Answer the following questions **in this notebook below and submit to your Github account**. \n",
    "\n",
    "   1. What test is appropriate for this problem? Does CLT apply?\n",
    "   2. What are the null and alternate hypotheses?\n",
    "   3. Compute margin of error, confidence interval, and p-value. Try using both the bootstrapping and the frequentist statistical approaches.\n",
    "   4. Write a story describing the statistical significance in the context or the original problem.\n",
    "   5. Does your analysis mean that race/name is the most important factor in callback success? Why or why not? If not, how would you amend your analysis?\n",
    "\n",
    "You can include written notes in notebook cells using Markdown: \n",
    "   - In the control panel at the top, choose Cell > Cell Type > Markdown\n",
    "   - Markdown syntax: http://nestacms.com/docs/creating-content/markdown-cheat-sheet\n",
    "\n",
    "\n",
    "#### Resources\n",
    "+ Experiment information and data source: http://www.povertyactionlab.org/evaluation/discrimination-job-market-united-states\n",
    "+ Scipy statistical methods: http://docs.scipy.org/doc/scipy/reference/stats.html \n",
    "+ Markdown syntax: http://nestacms.com/docs/creating-content/markdown-cheat-sheet\n",
    "+ Formulas for the Bernoulli distribution: https://en.wikipedia.org/wiki/Bernoulli_distribution\n",
    "</div>\n",
    "****"
   ]
  },
  {
   "cell_type": "code",
   "execution_count": 38,
   "metadata": {
    "collapsed": true
   },
   "outputs": [],
   "source": [
    "import pandas as pd\n",
    "import numpy as np\n",
    "from scipy import stats"
   ]
  },
  {
   "cell_type": "code",
   "execution_count": 39,
   "metadata": {
    "collapsed": true
   },
   "outputs": [],
   "source": [
    "data = pd.io.stata.read_stata('data/us_job_market_discrimination.dta')"
   ]
  },
  {
   "cell_type": "markdown",
   "metadata": {},
   "source": [
    "**Examine the data**"
   ]
  },
  {
   "cell_type": "code",
   "execution_count": 40,
   "metadata": {},
   "outputs": [
    {
     "data": {
      "text/html": [
       "<div>\n",
       "<style>\n",
       "    .dataframe thead tr:only-child th {\n",
       "        text-align: right;\n",
       "    }\n",
       "\n",
       "    .dataframe thead th {\n",
       "        text-align: left;\n",
       "    }\n",
       "\n",
       "    .dataframe tbody tr th {\n",
       "        vertical-align: top;\n",
       "    }\n",
       "</style>\n",
       "<table border=\"1\" class=\"dataframe\">\n",
       "  <thead>\n",
       "    <tr style=\"text-align: right;\">\n",
       "      <th></th>\n",
       "      <th>id</th>\n",
       "      <th>ad</th>\n",
       "      <th>education</th>\n",
       "      <th>ofjobs</th>\n",
       "      <th>yearsexp</th>\n",
       "      <th>honors</th>\n",
       "      <th>volunteer</th>\n",
       "      <th>military</th>\n",
       "      <th>empholes</th>\n",
       "      <th>occupspecific</th>\n",
       "      <th>...</th>\n",
       "      <th>compreq</th>\n",
       "      <th>orgreq</th>\n",
       "      <th>manuf</th>\n",
       "      <th>transcom</th>\n",
       "      <th>bankreal</th>\n",
       "      <th>trade</th>\n",
       "      <th>busservice</th>\n",
       "      <th>othservice</th>\n",
       "      <th>missind</th>\n",
       "      <th>ownership</th>\n",
       "    </tr>\n",
       "  </thead>\n",
       "  <tbody>\n",
       "    <tr>\n",
       "      <th>0</th>\n",
       "      <td>b</td>\n",
       "      <td>1</td>\n",
       "      <td>4</td>\n",
       "      <td>2</td>\n",
       "      <td>6</td>\n",
       "      <td>0</td>\n",
       "      <td>0</td>\n",
       "      <td>0</td>\n",
       "      <td>1</td>\n",
       "      <td>17</td>\n",
       "      <td>...</td>\n",
       "      <td>1.0</td>\n",
       "      <td>0.0</td>\n",
       "      <td>1.0</td>\n",
       "      <td>0.0</td>\n",
       "      <td>0.0</td>\n",
       "      <td>0.0</td>\n",
       "      <td>0.0</td>\n",
       "      <td>0.0</td>\n",
       "      <td>0.0</td>\n",
       "      <td></td>\n",
       "    </tr>\n",
       "    <tr>\n",
       "      <th>1</th>\n",
       "      <td>b</td>\n",
       "      <td>1</td>\n",
       "      <td>3</td>\n",
       "      <td>3</td>\n",
       "      <td>6</td>\n",
       "      <td>0</td>\n",
       "      <td>1</td>\n",
       "      <td>1</td>\n",
       "      <td>0</td>\n",
       "      <td>316</td>\n",
       "      <td>...</td>\n",
       "      <td>1.0</td>\n",
       "      <td>0.0</td>\n",
       "      <td>1.0</td>\n",
       "      <td>0.0</td>\n",
       "      <td>0.0</td>\n",
       "      <td>0.0</td>\n",
       "      <td>0.0</td>\n",
       "      <td>0.0</td>\n",
       "      <td>0.0</td>\n",
       "      <td></td>\n",
       "    </tr>\n",
       "    <tr>\n",
       "      <th>2</th>\n",
       "      <td>b</td>\n",
       "      <td>1</td>\n",
       "      <td>4</td>\n",
       "      <td>1</td>\n",
       "      <td>6</td>\n",
       "      <td>0</td>\n",
       "      <td>0</td>\n",
       "      <td>0</td>\n",
       "      <td>0</td>\n",
       "      <td>19</td>\n",
       "      <td>...</td>\n",
       "      <td>1.0</td>\n",
       "      <td>0.0</td>\n",
       "      <td>1.0</td>\n",
       "      <td>0.0</td>\n",
       "      <td>0.0</td>\n",
       "      <td>0.0</td>\n",
       "      <td>0.0</td>\n",
       "      <td>0.0</td>\n",
       "      <td>0.0</td>\n",
       "      <td></td>\n",
       "    </tr>\n",
       "    <tr>\n",
       "      <th>3</th>\n",
       "      <td>b</td>\n",
       "      <td>1</td>\n",
       "      <td>3</td>\n",
       "      <td>4</td>\n",
       "      <td>6</td>\n",
       "      <td>0</td>\n",
       "      <td>1</td>\n",
       "      <td>0</td>\n",
       "      <td>1</td>\n",
       "      <td>313</td>\n",
       "      <td>...</td>\n",
       "      <td>1.0</td>\n",
       "      <td>0.0</td>\n",
       "      <td>1.0</td>\n",
       "      <td>0.0</td>\n",
       "      <td>0.0</td>\n",
       "      <td>0.0</td>\n",
       "      <td>0.0</td>\n",
       "      <td>0.0</td>\n",
       "      <td>0.0</td>\n",
       "      <td></td>\n",
       "    </tr>\n",
       "    <tr>\n",
       "      <th>4</th>\n",
       "      <td>b</td>\n",
       "      <td>1</td>\n",
       "      <td>3</td>\n",
       "      <td>3</td>\n",
       "      <td>22</td>\n",
       "      <td>0</td>\n",
       "      <td>0</td>\n",
       "      <td>0</td>\n",
       "      <td>0</td>\n",
       "      <td>313</td>\n",
       "      <td>...</td>\n",
       "      <td>1.0</td>\n",
       "      <td>1.0</td>\n",
       "      <td>0.0</td>\n",
       "      <td>0.0</td>\n",
       "      <td>0.0</td>\n",
       "      <td>0.0</td>\n",
       "      <td>0.0</td>\n",
       "      <td>1.0</td>\n",
       "      <td>0.0</td>\n",
       "      <td>Nonprofit</td>\n",
       "    </tr>\n",
       "  </tbody>\n",
       "</table>\n",
       "<p>5 rows × 65 columns</p>\n",
       "</div>"
      ],
      "text/plain": [
       "  id ad  education  ofjobs  yearsexp  honors  volunteer  military  empholes  \\\n",
       "0  b  1          4       2         6       0          0         0         1   \n",
       "1  b  1          3       3         6       0          1         1         0   \n",
       "2  b  1          4       1         6       0          0         0         0   \n",
       "3  b  1          3       4         6       0          1         0         1   \n",
       "4  b  1          3       3        22       0          0         0         0   \n",
       "\n",
       "   occupspecific    ...      compreq  orgreq  manuf  transcom  bankreal trade  \\\n",
       "0             17    ...          1.0     0.0    1.0       0.0       0.0   0.0   \n",
       "1            316    ...          1.0     0.0    1.0       0.0       0.0   0.0   \n",
       "2             19    ...          1.0     0.0    1.0       0.0       0.0   0.0   \n",
       "3            313    ...          1.0     0.0    1.0       0.0       0.0   0.0   \n",
       "4            313    ...          1.0     1.0    0.0       0.0       0.0   0.0   \n",
       "\n",
       "  busservice othservice  missind  ownership  \n",
       "0        0.0        0.0      0.0             \n",
       "1        0.0        0.0      0.0             \n",
       "2        0.0        0.0      0.0             \n",
       "3        0.0        0.0      0.0             \n",
       "4        0.0        1.0      0.0  Nonprofit  \n",
       "\n",
       "[5 rows x 65 columns]"
      ]
     },
     "execution_count": 40,
     "metadata": {},
     "output_type": "execute_result"
    }
   ],
   "source": [
    "data.head()"
   ]
  },
  {
   "cell_type": "code",
   "execution_count": 41,
   "metadata": {},
   "outputs": [
    {
     "data": {
      "text/html": [
       "<div>\n",
       "<style>\n",
       "    .dataframe thead tr:only-child th {\n",
       "        text-align: right;\n",
       "    }\n",
       "\n",
       "    .dataframe thead th {\n",
       "        text-align: left;\n",
       "    }\n",
       "\n",
       "    .dataframe tbody tr th {\n",
       "        vertical-align: top;\n",
       "    }\n",
       "</style>\n",
       "<table border=\"1\" class=\"dataframe\">\n",
       "  <thead>\n",
       "    <tr style=\"text-align: right;\">\n",
       "      <th></th>\n",
       "      <th>race</th>\n",
       "      <th>call</th>\n",
       "    </tr>\n",
       "  </thead>\n",
       "  <tbody>\n",
       "    <tr>\n",
       "      <th>0</th>\n",
       "      <td>w</td>\n",
       "      <td>0.0</td>\n",
       "    </tr>\n",
       "    <tr>\n",
       "      <th>1</th>\n",
       "      <td>w</td>\n",
       "      <td>0.0</td>\n",
       "    </tr>\n",
       "    <tr>\n",
       "      <th>2</th>\n",
       "      <td>b</td>\n",
       "      <td>0.0</td>\n",
       "    </tr>\n",
       "    <tr>\n",
       "      <th>3</th>\n",
       "      <td>b</td>\n",
       "      <td>0.0</td>\n",
       "    </tr>\n",
       "    <tr>\n",
       "      <th>4</th>\n",
       "      <td>w</td>\n",
       "      <td>0.0</td>\n",
       "    </tr>\n",
       "  </tbody>\n",
       "</table>\n",
       "</div>"
      ],
      "text/plain": [
       "  race  call\n",
       "0    w   0.0\n",
       "1    w   0.0\n",
       "2    b   0.0\n",
       "3    b   0.0\n",
       "4    w   0.0"
      ]
     },
     "execution_count": 41,
     "metadata": {},
     "output_type": "execute_result"
    }
   ],
   "source": [
    "#Dataframe of variables relevant for analysis: race and call\n",
    "\n",
    "df = data[['race', 'call']]\n",
    "df.head()"
   ]
  },
  {
   "cell_type": "code",
   "execution_count": 42,
   "metadata": {},
   "outputs": [
    {
     "name": "stdout",
     "output_type": "stream",
     "text": [
      "     race  call\n",
      "0       w   0.0\n",
      "1       w   0.0\n",
      "4       w   0.0\n",
      "5       w   0.0\n",
      "6       w   0.0\n",
      "11      w   0.0\n",
      "13      w   0.0\n",
      "15      w   0.0\n",
      "16      w   0.0\n",
      "18      w   0.0\n",
      "21      w   0.0\n",
      "22      w   0.0\n",
      "23      w   0.0\n",
      "24      w   0.0\n",
      "27      w   0.0\n",
      "30      w   0.0\n",
      "32      w   0.0\n",
      "34      w   0.0\n",
      "35      w   0.0\n",
      "39      w   0.0\n",
      "40      w   0.0\n",
      "42      w   0.0\n",
      "43      w   0.0\n",
      "46      w   0.0\n",
      "48      w   0.0\n",
      "51      w   0.0\n",
      "52      w   0.0\n",
      "54      w   0.0\n",
      "56      w   0.0\n",
      "58      w   0.0\n",
      "...   ...   ...\n",
      "4811    w   0.0\n",
      "4813    w   0.0\n",
      "4814    w   0.0\n",
      "4816    w   0.0\n",
      "4817    w   0.0\n",
      "4819    w   0.0\n",
      "4822    w   0.0\n",
      "4824    w   0.0\n",
      "4826    w   1.0\n",
      "4829    w   1.0\n",
      "4830    w   0.0\n",
      "4831    w   0.0\n",
      "4834    w   0.0\n",
      "4836    w   0.0\n",
      "4838    w   0.0\n",
      "4839    w   0.0\n",
      "4843    w   1.0\n",
      "4845    w   0.0\n",
      "4846    w   1.0\n",
      "4847    w   1.0\n",
      "4851    w   0.0\n",
      "4852    w   0.0\n",
      "4854    w   0.0\n",
      "4855    w   0.0\n",
      "4860    w   0.0\n",
      "4861    w   1.0\n",
      "4862    w   0.0\n",
      "4863    w   0.0\n",
      "4867    w   0.0\n",
      "4869    w   0.0\n",
      "\n",
      "[2435 rows x 2 columns]\n",
      "     race  call\n",
      "2       b   0.0\n",
      "3       b   0.0\n",
      "7       b   0.0\n",
      "8       b   0.0\n",
      "9       b   0.0\n",
      "10      b   0.0\n",
      "12      b   0.0\n",
      "14      b   0.0\n",
      "17      b   0.0\n",
      "19      b   0.0\n",
      "20      b   0.0\n",
      "25      b   0.0\n",
      "26      b   0.0\n",
      "28      b   0.0\n",
      "29      b   0.0\n",
      "31      b   0.0\n",
      "33      b   0.0\n",
      "36      b   0.0\n",
      "37      b   0.0\n",
      "38      b   0.0\n",
      "41      b   0.0\n",
      "44      b   0.0\n",
      "45      b   0.0\n",
      "47      b   0.0\n",
      "49      b   0.0\n",
      "50      b   0.0\n",
      "53      b   0.0\n",
      "55      b   0.0\n",
      "57      b   0.0\n",
      "59      b   0.0\n",
      "...   ...   ...\n",
      "4808    b   0.0\n",
      "4812    b   0.0\n",
      "4815    b   0.0\n",
      "4818    b   0.0\n",
      "4820    b   0.0\n",
      "4821    b   0.0\n",
      "4823    b   0.0\n",
      "4825    b   0.0\n",
      "4827    b   0.0\n",
      "4828    b   0.0\n",
      "4832    b   0.0\n",
      "4833    b   0.0\n",
      "4835    b   0.0\n",
      "4837    b   0.0\n",
      "4840    b   0.0\n",
      "4841    b   0.0\n",
      "4842    b   0.0\n",
      "4844    b   0.0\n",
      "4848    b   1.0\n",
      "4849    b   0.0\n",
      "4850    b   0.0\n",
      "4853    b   0.0\n",
      "4856    b   0.0\n",
      "4857    b   0.0\n",
      "4858    b   0.0\n",
      "4859    b   1.0\n",
      "4864    b   0.0\n",
      "4865    b   0.0\n",
      "4866    b   0.0\n",
      "4868    b   0.0\n",
      "\n",
      "[2435 rows x 2 columns]\n"
     ]
    }
   ],
   "source": [
    "#Separate dataframes by race\n",
    "df_white = df[df.race=='w']\n",
    "print(w)\n",
    "\n",
    "df_black = df[df.race=='b']\n",
    "print(b)\n",
    "\n",
    "#2435 entries for each race"
   ]
  },
  {
   "cell_type": "code",
   "execution_count": 43,
   "metadata": {},
   "outputs": [
    {
     "name": "stdout",
     "output_type": "stream",
     "text": [
      "Proportion of callbacks among blacks 0.064476386037\n",
      "Proportion of callbacks among whites 0.0965092402464\n"
     ]
    }
   ],
   "source": [
    "#number of callbacks for black-sounding names\n",
    "blk_callback = sum(data[data.race=='b'].call)\n",
    "\n",
    "# number of callbacks for white-sounding names\n",
    "white_callback = sum(data[data.race=='w'].call)\n",
    "\n",
    "print('Proportion of callbacks among blacks', blk_callback/2435)\n",
    "print('Proportion of callbacks among whites', white_callback/2435)\n"
   ]
  },
  {
   "cell_type": "markdown",
   "metadata": {},
   "source": [
    "## 1. What test is approriate for this problem? Does the CLT apply?"
   ]
  },
  {
   "cell_type": "markdown",
   "metadata": {},
   "source": [
    "Each resume callback is a random Bernoulli variable which takes one of two values, 1 (receive call) or 0 (no call). The number of successful calls in a sequence of n independent resumes, which are randomly assigned black or white-sounding names, follows a binomal distribution.\n",
    "\n",
    "The Central Limit Theorem applies even to binomial populations provided that the minimum of np and n(1-p) is at least 5, where n refers to the sample size and p is the probability of \"success\" on any given trial. \n",
    "\n",
    "#Question: In this case would I look at total population (n=4870) or do it among the races with proportions of callback I got above. For example, 2435*0.064 for black-sounding and 2435*0.096 for white-sounding.\n",
    "\n",
    "A two-proportion z-test is approriate for this problem as we are comparing difference between two proportions and the sample size (n= 4870) is greater than 30.  \n",
    "\n",
    "\n",
    "#Question: Z-test ot T-test?"
   ]
  },
  {
   "cell_type": "markdown",
   "metadata": {},
   "source": [
    "## 2. What are the null and alternate hypotheses?"
   ]
  },
  {
   "cell_type": "markdown",
   "metadata": {},
   "source": [
    "**Null hypothesis**: The percentage of callbacks is the same for both black-sounding names and white-sounding names.\n",
    "\n",
    "**Alternate hypothesis**: The percentage of callbacks for black-sounding names and white-sounding names differs."
   ]
  },
  {
   "cell_type": "markdown",
   "metadata": {},
   "source": [
    "## Compute margin of error, confidence interval, and p-value. Try using both the bootstrapping and the frequentist statistical approaches."
   ]
  },
  {
   "cell_type": "markdown",
   "metadata": {
    "collapsed": true
   },
   "source": [
    "**Bootstrap approach**"
   ]
  },
  {
   "cell_type": "code",
   "execution_count": 44,
   "metadata": {
    "collapsed": true
   },
   "outputs": [],
   "source": [
    "def permutation_sample(data_1, data_2):\n",
    "    data = np.concatenate((data_1, data_2))\n",
    "    \n",
    "    #Permutate data\n",
    "    permuted_data = np.random.permutation(data)\n",
    "    \n",
    "    perm_sample_1 = permuted_data[:len(data_1)]\n",
    "    perm_sample_2 = permuted_data[len(data_1):]\n",
    "    \n",
    "    return perm_sample_1, perm_sample_2\n",
    "\n",
    "\n",
    "def draw_perm_reps(data_1, data_2, func, size = 1):\n",
    "    #Generate multiple permutation replicats.\n",
    "    \n",
    "    #Initialize array of replicates: perm_replicates\n",
    "    perm_replicates = np.empty(size)\n",
    "\n",
    "    for i in range(size):\n",
    "        #Generate permutation sample.\n",
    "        perm_sample_1, perm_sample_2 = permutation_sample(data_1, data_2)\n",
    "        \n",
    "        #Compute test statistic(func)\n",
    "        perm_replicates[i] = func(perm_sample_1, perm_sample_2)\n",
    "\n",
    "    return perm_replicates\n",
    "\n",
    "\n",
    "def diff_of_proportion(data_1, data_2):\n",
    "    proportion_1 = np.sum(data_1) / len(data_1)\n",
    "    proportion_2 = np.sum(data_2) / len(data_2)\n",
    "    \n",
    "    return proportion_1 - proportion_2\n"
   ]
  },
  {
   "cell_type": "code",
   "execution_count": 45,
   "metadata": {},
   "outputs": [
    {
     "name": "stdout",
     "output_type": "stream",
     "text": [
      "Bootstrap approach p-value: 0.0\n"
     ]
    }
   ],
   "source": [
    "#Calculate empirical difference of proportions\n",
    "empirical_diff_proportion = diff_of_proportion(df_white['call'], df_black['call'])\n",
    "\n",
    "#Create permutations of data\n",
    "perm_replicates = draw_perm_reps(df_white['call'], df_black['call'], diff_of_proportion, size = 1000)\n",
    "\n",
    "#Calculate p-value\n",
    "p = np.sum(perm_replicates >= empirical_diff_proportion) / len(perm_replicates)\n",
    "\n",
    "print('Bootstrap approach p-value:', p)"
   ]
  },
  {
   "cell_type": "code",
   "execution_count": 46,
   "metadata": {},
   "outputs": [
    {
     "name": "stdout",
     "output_type": "stream",
     "text": [
      "Bootstrap approach confidence interval: [-0.01478439  0.01478439]\n"
     ]
    }
   ],
   "source": [
    "conf_interval = np.percentile(perm_replicates, [2.5, 97.5])\n",
    "print('Bootstrap approach confidence interval:', conf_interval)\n",
    "\n",
    "#Not sure if this correct?"
   ]
  },
  {
   "cell_type": "markdown",
   "metadata": {},
   "source": [
    "**Frequentist Test** - two proportion z-test"
   ]
  },
  {
   "cell_type": "code",
   "execution_count": 51,
   "metadata": {},
   "outputs": [
    {
     "name": "stdout",
     "output_type": "stream",
     "text": [
      "Margin of Error: 0.0152554063499\n",
      "Confidence interval: (0.016777447859559147, 0.047288260559332024)\n"
     ]
    }
   ],
   "source": [
    "# Calculate margin of error, confidence interval, and p-value\n",
    "\n",
    "#Z value for 95% confidence interval\n",
    "z_value = 1.96\n",
    "\n",
    "\n",
    "\n",
    "#Proportions of callbacks for black and white-sounding names\n",
    "prop_blk = sum(df[df.race=='b'].call)/len(df[df.race=='b'].call)\n",
    "\n",
    "prop_white = sum(df[df.race=='w'].call)/len(df[df.race=='b'].call)\n",
    "\n",
    "\n",
    "\n",
    "#Standard error difference between proportions\n",
    "#formula : SEp1-p2 = sqrt [ p1(1-p1) / n1 + p2(1-p2) / n2 ]\n",
    "\n",
    "std_err_diff= np.sqrt((prop_blk * (1- prop_blk)/ (len(df_black)))\n",
    "                          + (prop_white * (1- prop_white)/ (len(df_white))))                        \n",
    "\n",
    "\n",
    "#Margin of error\n",
    "margin_of_err = z_value * std_err_diff\n",
    "\n",
    "print('Margin of Error:', margin_of_err)\n",
    "\n",
    "\n",
    "\n",
    "\n",
    "#Confidence interval\n",
    "p_diff = prop_white - prop_blk\n",
    "\n",
    "conf_int = (p_diff - margin_of_err, p_diff + margin_of_err)\n",
    "\n",
    "print('Confidence interval:', conf_int)"
   ]
  },
  {
   "cell_type": "code",
   "execution_count": 71,
   "metadata": {},
   "outputs": [
    {
     "name": "stdout",
     "output_type": "stream",
     "text": [
      "0.0804928131417\n",
      "Z-score: 4.10841215243\n",
      "P-value: 3.98388683759e-05\n"
     ]
    }
   ],
   "source": [
    "# Calculate Z score\n",
    "\n",
    "#Overall sample proportion of successful callbacks\n",
    "prop_success = sum(df.call) / len(df.call)\n",
    "print(prop_success)\n",
    "\n",
    "#Formula for z-score: https://www.socscistatistics.com/tests/ztest/\n",
    "\n",
    "z_score = ((prop_white - prop_blk) - 0) / np.sqrt((prop_success * (1 - prop_success)) * ((1/ len(df_black)) + (1/len(df_white))))\n",
    "        \n",
    "print('Z-score:', z_score)\n",
    "\n",
    "#Calculate p-value\n",
    "\n",
    "p_value = stats.norm.sf(abs(z_score))*2\n",
    "print('P-value:', p_value)\n",
    "\n",
    "# As the absolute value of the Z score is larger than 1.96,  reject the null hypothesis."
   ]
  },
  {
   "cell_type": "markdown",
   "metadata": {},
   "source": [
    "Statsmodels also has library for two proportion Z-Test"
   ]
  },
  {
   "cell_type": "code",
   "execution_count": 70,
   "metadata": {},
   "outputs": [
    {
     "name": "stderr",
     "output_type": "stream",
     "text": [
      "C:\\Users\\N Adham\\Anaconda3\\lib\\site-packages\\statsmodels\\compat\\pandas.py:56: FutureWarning: The pandas.core.datetools module is deprecated and will be removed in a future version. Please use the pandas.tseries module instead.\n",
      "  from pandas.core import datetools\n"
     ]
    },
    {
     "name": "stdout",
     "output_type": "stream",
     "text": [
      "Z-score: 4.10841215243\n",
      "p-value: 3.98388683759e-05\n"
     ]
    }
   ],
   "source": [
    "import statsmodels.api as sm\n",
    "\n",
    "z_score, p_value = sm.stats.proportions_ztest([sum(df_white.call), sum(df_black.call)], [len(df_white), len(df_black)])\n",
    "print('Z-score:', z_score)\n",
    "print('p-value:', p_value)"
   ]
  },
  {
   "cell_type": "markdown",
   "metadata": {},
   "source": [
    "<div class=\"span5 alert alert-success\">\n",
    "<p> Your answers to Q4 and Q5 here </p>\n",
    "</div>"
   ]
  },
  {
   "cell_type": "markdown",
   "metadata": {
    "collapsed": true
   },
   "source": [
    "## 4. Write a story describing the statistical significance in the context or the original problem."
   ]
  },
  {
   "cell_type": "markdown",
   "metadata": {},
   "source": [
    "Since the p-value is less than 0.05, we can reject the null hypothesis.\n",
    "There appears to be significant difference in the proportion of callbacks for resumes with black-sounding names\n",
    "and for resumes with white-sounding names."
   ]
  },
  {
   "cell_type": "markdown",
   "metadata": {},
   "source": [
    "## 5. Does your analysis mean that race/name is the most important factor in callback success? Why or why not? If not, how would you amend your analysis?"
   ]
  },
  {
   "cell_type": "markdown",
   "metadata": {},
   "source": [
    "This analysis suggests that race/name is an important factor in callback success. However, it does not necessarily indicate that it is the most important decider on whether an employer calls an applicant or not. For one, the analysis only examines race/name, and there may be correlations between other features and callback success. A few features that come to find are gender, location of employer, and type of industry. For instance, males may be more successful in the hiring process for certain jobs than females and vice-versa, regardless of race. Further analyses need to control for such features in order to determine if race/name is the most important factor in callback success."
   ]
  }
 ],
 "metadata": {
  "kernelspec": {
   "display_name": "Python 3",
   "language": "python",
   "name": "python3"
  },
  "language_info": {
   "codemirror_mode": {
    "name": "ipython",
    "version": 3
   },
   "file_extension": ".py",
   "mimetype": "text/x-python",
   "name": "python",
   "nbconvert_exporter": "python",
   "pygments_lexer": "ipython3",
   "version": "3.6.3"
  }
 },
 "nbformat": 4,
 "nbformat_minor": 1
}
